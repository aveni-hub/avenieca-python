{
 "cells": [
  {
   "cell_type": "code",
   "execution_count": 54,
   "id": "13c55c26",
   "metadata": {},
   "outputs": [
    {
     "name": "stdout",
     "output_type": "stream",
     "text": [
      "b'{\"valence\": 90.0, \"score\": 10, \"state\": \"[0.5980066027650317, 0.01890374165743025]\"}'\n"
     ]
    },
    {
     "data": {
      "text/plain": [
       "<kafka.producer.future.FutureRecordMetadata at 0x135937dc0>"
      ]
     },
     "execution_count": 54,
     "metadata": {},
     "output_type": "execute_result"
    }
   ],
   "source": [
    "from kafka import KafkaProducer\n",
    "import numpy as np\n",
    "import json\n",
    "producer = KafkaProducer(bootstrap_servers='192.168.0.193:9092')\n",
    "arr = np.random.rand(2)\n",
    "a = arr.tolist() \n",
    "data = {\n",
    "    \"valence\":90.0,\n",
    "    \"score\":10,\n",
    "    \"state\": json.dumps(a)\n",
    "}\n",
    "json_object = json.dumps(data).encode('utf-8')\n",
    "print(json_object)\n",
    "producer.send('testtwinssss', json_object)"
   ]
  },
  {
   "cell_type": "code",
   "execution_count": 2,
   "id": "4346aa33",
   "metadata": {},
   "outputs": [
    {
     "name": "stdout",
     "output_type": "stream",
     "text": [
      "Collecting kafka-python\n",
      "\u001b[33m  WARNING: Retrying (Retry(total=4, connect=None, read=None, redirect=None, status=None)) after connection broken by 'NewConnectionError('<pip._vendor.urllib3.connection.HTTPSConnection object at 0x7fb73123bcd0>: Failed to establish a new connection: [Errno -3] Temporary failure in name resolution')': /packages/75/68/dcb0db055309f680ab2931a3eeb22d865604b638acf8c914bedf4c1a0c8c/kafka_python-2.0.2-py2.py3-none-any.whl\u001b[0m\n",
      "\u001b[33m  WARNING: Retrying (Retry(total=3, connect=None, read=None, redirect=None, status=None)) after connection broken by 'NewConnectionError('<pip._vendor.urllib3.connection.HTTPSConnection object at 0x7fb73123bf10>: Failed to establish a new connection: [Errno -3] Temporary failure in name resolution')': /packages/75/68/dcb0db055309f680ab2931a3eeb22d865604b638acf8c914bedf4c1a0c8c/kafka_python-2.0.2-py2.py3-none-any.whl\u001b[0m\n",
      "\u001b[33m  WARNING: Retrying (Retry(total=2, connect=None, read=None, redirect=None, status=None)) after connection broken by 'NewConnectionError('<pip._vendor.urllib3.connection.HTTPSConnection object at 0x7fb73124e0d0>: Failed to establish a new connection: [Errno -3] Temporary failure in name resolution')': /packages/75/68/dcb0db055309f680ab2931a3eeb22d865604b638acf8c914bedf4c1a0c8c/kafka_python-2.0.2-py2.py3-none-any.whl\u001b[0m\n",
      "  Downloading kafka_python-2.0.2-py2.py3-none-any.whl (246 kB)\n",
      "\u001b[K     |████████████████████████████████| 246 kB 371 kB/s eta 0:00:01\n",
      "\u001b[?25hInstalling collected packages: kafka-python\n",
      "Successfully installed kafka-python-2.0.2\n"
     ]
    }
   ],
   "source": [
    "!pip install kafka-python"
   ]
  },
  {
   "cell_type": "code",
   "execution_count": 48,
   "id": "3102648b",
   "metadata": {},
   "outputs": [
    {
     "name": "stdout",
     "output_type": "stream",
     "text": [
      "None\n",
      "None\n",
      "{\"v\":1,\"dim\":[4],\"data\":[0.82,0.99,0.39,0.55]}\n"
     ]
    },
    {
     "ename": "KeyboardInterrupt",
     "evalue": "",
     "output_type": "error",
     "traceback": [
      "\u001b[0;31m---------------------------------------------------------------------------\u001b[0m",
      "\u001b[0;31mKeyboardInterrupt\u001b[0m                         Traceback (most recent call last)",
      "Input \u001b[0;32mIn [48]\u001b[0m, in \u001b[0;36m<cell line: 6>\u001b[0;34m()\u001b[0m\n\u001b[1;32m      3\u001b[0m \u001b[38;5;28;01mimport\u001b[39;00m \u001b[38;5;21;01mjson\u001b[39;00m\n\u001b[1;32m      5\u001b[0m consumer \u001b[38;5;241m=\u001b[39m KafkaConsumer(\u001b[38;5;124m'\u001b[39m\u001b[38;5;124mdjkanjdn\u001b[39m\u001b[38;5;124m'\u001b[39m)\n\u001b[0;32m----> 6\u001b[0m \u001b[38;5;28;01mfor\u001b[39;00m msg \u001b[38;5;129;01min\u001b[39;00m consumer:\n\u001b[1;32m      7\u001b[0m     b_val \u001b[38;5;241m=\u001b[39m msg\u001b[38;5;241m.\u001b[39mvalue\n\u001b[1;32m      8\u001b[0m     valence \u001b[38;5;241m=\u001b[39m json\u001b[38;5;241m.\u001b[39mloads(b_val)[\u001b[38;5;124m\"\u001b[39m\u001b[38;5;124mvalence\u001b[39m\u001b[38;5;124m\"\u001b[39m]\n",
      "File \u001b[0;32m~/opt/anaconda3/lib/python3.9/site-packages/kafka/consumer/group.py:1193\u001b[0m, in \u001b[0;36mKafkaConsumer.__next__\u001b[0;34m(self)\u001b[0m\n\u001b[1;32m   1191\u001b[0m     \u001b[38;5;28;01mreturn\u001b[39;00m \u001b[38;5;28mself\u001b[39m\u001b[38;5;241m.\u001b[39mnext_v1()\n\u001b[1;32m   1192\u001b[0m \u001b[38;5;28;01melse\u001b[39;00m:\n\u001b[0;32m-> 1193\u001b[0m     \u001b[38;5;28;01mreturn\u001b[39;00m \u001b[38;5;28;43mself\u001b[39;49m\u001b[38;5;241;43m.\u001b[39;49m\u001b[43mnext_v2\u001b[49m\u001b[43m(\u001b[49m\u001b[43m)\u001b[49m\n",
      "File \u001b[0;32m~/opt/anaconda3/lib/python3.9/site-packages/kafka/consumer/group.py:1201\u001b[0m, in \u001b[0;36mKafkaConsumer.next_v2\u001b[0;34m(self)\u001b[0m\n\u001b[1;32m   1199\u001b[0m     \u001b[38;5;28mself\u001b[39m\u001b[38;5;241m.\u001b[39m_iterator \u001b[38;5;241m=\u001b[39m \u001b[38;5;28mself\u001b[39m\u001b[38;5;241m.\u001b[39m_message_generator_v2()\n\u001b[1;32m   1200\u001b[0m \u001b[38;5;28;01mtry\u001b[39;00m:\n\u001b[0;32m-> 1201\u001b[0m     \u001b[38;5;28;01mreturn\u001b[39;00m \u001b[38;5;28;43mnext\u001b[39;49m\u001b[43m(\u001b[49m\u001b[38;5;28;43mself\u001b[39;49m\u001b[38;5;241;43m.\u001b[39;49m\u001b[43m_iterator\u001b[49m\u001b[43m)\u001b[49m\n\u001b[1;32m   1202\u001b[0m \u001b[38;5;28;01mexcept\u001b[39;00m \u001b[38;5;167;01mStopIteration\u001b[39;00m:\n\u001b[1;32m   1203\u001b[0m     \u001b[38;5;28mself\u001b[39m\u001b[38;5;241m.\u001b[39m_iterator \u001b[38;5;241m=\u001b[39m \u001b[38;5;28;01mNone\u001b[39;00m\n",
      "File \u001b[0;32m~/opt/anaconda3/lib/python3.9/site-packages/kafka/consumer/group.py:1116\u001b[0m, in \u001b[0;36mKafkaConsumer._message_generator_v2\u001b[0;34m(self)\u001b[0m\n\u001b[1;32m   1114\u001b[0m \u001b[38;5;28;01mdef\u001b[39;00m \u001b[38;5;21m_message_generator_v2\u001b[39m(\u001b[38;5;28mself\u001b[39m):\n\u001b[1;32m   1115\u001b[0m     timeout_ms \u001b[38;5;241m=\u001b[39m \u001b[38;5;241m1000\u001b[39m \u001b[38;5;241m*\u001b[39m (\u001b[38;5;28mself\u001b[39m\u001b[38;5;241m.\u001b[39m_consumer_timeout \u001b[38;5;241m-\u001b[39m time\u001b[38;5;241m.\u001b[39mtime())\n\u001b[0;32m-> 1116\u001b[0m     record_map \u001b[38;5;241m=\u001b[39m \u001b[38;5;28;43mself\u001b[39;49m\u001b[38;5;241;43m.\u001b[39;49m\u001b[43mpoll\u001b[49m\u001b[43m(\u001b[49m\u001b[43mtimeout_ms\u001b[49m\u001b[38;5;241;43m=\u001b[39;49m\u001b[43mtimeout_ms\u001b[49m\u001b[43m,\u001b[49m\u001b[43m \u001b[49m\u001b[43mupdate_offsets\u001b[49m\u001b[38;5;241;43m=\u001b[39;49m\u001b[38;5;28;43;01mFalse\u001b[39;49;00m\u001b[43m)\u001b[49m\n\u001b[1;32m   1117\u001b[0m     \u001b[38;5;28;01mfor\u001b[39;00m tp, records \u001b[38;5;129;01min\u001b[39;00m six\u001b[38;5;241m.\u001b[39miteritems(record_map):\n\u001b[1;32m   1118\u001b[0m         \u001b[38;5;66;03m# Generators are stateful, and it is possible that the tp / records\u001b[39;00m\n\u001b[1;32m   1119\u001b[0m         \u001b[38;5;66;03m# here may become stale during iteration -- i.e., we seek to a\u001b[39;00m\n\u001b[1;32m   1120\u001b[0m         \u001b[38;5;66;03m# different offset, pause consumption, or lose assignment.\u001b[39;00m\n\u001b[1;32m   1121\u001b[0m         \u001b[38;5;28;01mfor\u001b[39;00m record \u001b[38;5;129;01min\u001b[39;00m records:\n\u001b[1;32m   1122\u001b[0m             \u001b[38;5;66;03m# is_fetchable(tp) should handle assignment changes and offset\u001b[39;00m\n\u001b[1;32m   1123\u001b[0m             \u001b[38;5;66;03m# resets; for all other changes (e.g., seeks) we'll rely on the\u001b[39;00m\n\u001b[1;32m   1124\u001b[0m             \u001b[38;5;66;03m# outer function destroying the existing iterator/generator\u001b[39;00m\n\u001b[1;32m   1125\u001b[0m             \u001b[38;5;66;03m# via self._iterator = None\u001b[39;00m\n",
      "File \u001b[0;32m~/opt/anaconda3/lib/python3.9/site-packages/kafka/consumer/group.py:655\u001b[0m, in \u001b[0;36mKafkaConsumer.poll\u001b[0;34m(self, timeout_ms, max_records, update_offsets)\u001b[0m\n\u001b[1;32m    653\u001b[0m remaining \u001b[38;5;241m=\u001b[39m timeout_ms\n\u001b[1;32m    654\u001b[0m \u001b[38;5;28;01mwhile\u001b[39;00m \u001b[38;5;28;01mTrue\u001b[39;00m:\n\u001b[0;32m--> 655\u001b[0m     records \u001b[38;5;241m=\u001b[39m \u001b[38;5;28;43mself\u001b[39;49m\u001b[38;5;241;43m.\u001b[39;49m\u001b[43m_poll_once\u001b[49m\u001b[43m(\u001b[49m\u001b[43mremaining\u001b[49m\u001b[43m,\u001b[49m\u001b[43m \u001b[49m\u001b[43mmax_records\u001b[49m\u001b[43m,\u001b[49m\u001b[43m \u001b[49m\u001b[43mupdate_offsets\u001b[49m\u001b[38;5;241;43m=\u001b[39;49m\u001b[43mupdate_offsets\u001b[49m\u001b[43m)\u001b[49m\n\u001b[1;32m    656\u001b[0m     \u001b[38;5;28;01mif\u001b[39;00m records:\n\u001b[1;32m    657\u001b[0m         \u001b[38;5;28;01mreturn\u001b[39;00m records\n",
      "File \u001b[0;32m~/opt/anaconda3/lib/python3.9/site-packages/kafka/consumer/group.py:702\u001b[0m, in \u001b[0;36mKafkaConsumer._poll_once\u001b[0;34m(self, timeout_ms, max_records, update_offsets)\u001b[0m\n\u001b[1;32m    699\u001b[0m     \u001b[38;5;28mself\u001b[39m\u001b[38;5;241m.\u001b[39m_client\u001b[38;5;241m.\u001b[39mpoll(timeout_ms\u001b[38;5;241m=\u001b[39m\u001b[38;5;241m0\u001b[39m)\n\u001b[1;32m    701\u001b[0m timeout_ms \u001b[38;5;241m=\u001b[39m \u001b[38;5;28mmin\u001b[39m(timeout_ms, \u001b[38;5;28mself\u001b[39m\u001b[38;5;241m.\u001b[39m_coordinator\u001b[38;5;241m.\u001b[39mtime_to_next_poll() \u001b[38;5;241m*\u001b[39m \u001b[38;5;241m1000\u001b[39m)\n\u001b[0;32m--> 702\u001b[0m \u001b[38;5;28;43mself\u001b[39;49m\u001b[38;5;241;43m.\u001b[39;49m\u001b[43m_client\u001b[49m\u001b[38;5;241;43m.\u001b[39;49m\u001b[43mpoll\u001b[49m\u001b[43m(\u001b[49m\u001b[43mtimeout_ms\u001b[49m\u001b[38;5;241;43m=\u001b[39;49m\u001b[43mtimeout_ms\u001b[49m\u001b[43m)\u001b[49m\n\u001b[1;32m    703\u001b[0m \u001b[38;5;66;03m# after the long poll, we should check whether the group needs to rebalance\u001b[39;00m\n\u001b[1;32m    704\u001b[0m \u001b[38;5;66;03m# prior to returning data so that the group can stabilize faster\u001b[39;00m\n\u001b[1;32m    705\u001b[0m \u001b[38;5;28;01mif\u001b[39;00m \u001b[38;5;28mself\u001b[39m\u001b[38;5;241m.\u001b[39m_coordinator\u001b[38;5;241m.\u001b[39mneed_rejoin():\n",
      "File \u001b[0;32m~/opt/anaconda3/lib/python3.9/site-packages/kafka/client_async.py:602\u001b[0m, in \u001b[0;36mKafkaClient.poll\u001b[0;34m(self, timeout_ms, future)\u001b[0m\n\u001b[1;32m    599\u001b[0m             timeout \u001b[38;5;241m=\u001b[39m \u001b[38;5;28mmin\u001b[39m(timeout, \u001b[38;5;28mself\u001b[39m\u001b[38;5;241m.\u001b[39mconfig[\u001b[38;5;124m'\u001b[39m\u001b[38;5;124mretry_backoff_ms\u001b[39m\u001b[38;5;124m'\u001b[39m])\n\u001b[1;32m    600\u001b[0m         timeout \u001b[38;5;241m=\u001b[39m \u001b[38;5;28mmax\u001b[39m(\u001b[38;5;241m0\u001b[39m, timeout)  \u001b[38;5;66;03m# avoid negative timeouts\u001b[39;00m\n\u001b[0;32m--> 602\u001b[0m     \u001b[38;5;28;43mself\u001b[39;49m\u001b[38;5;241;43m.\u001b[39;49m\u001b[43m_poll\u001b[49m\u001b[43m(\u001b[49m\u001b[43mtimeout\u001b[49m\u001b[43m \u001b[49m\u001b[38;5;241;43m/\u001b[39;49m\u001b[43m \u001b[49m\u001b[38;5;241;43m1000\u001b[39;49m\u001b[43m)\u001b[49m\n\u001b[1;32m    604\u001b[0m \u001b[38;5;66;03m# called without the lock to avoid deadlock potential\u001b[39;00m\n\u001b[1;32m    605\u001b[0m \u001b[38;5;66;03m# if handlers need to acquire locks\u001b[39;00m\n\u001b[1;32m    606\u001b[0m responses\u001b[38;5;241m.\u001b[39mextend(\u001b[38;5;28mself\u001b[39m\u001b[38;5;241m.\u001b[39m_fire_pending_completed_requests())\n",
      "File \u001b[0;32m~/opt/anaconda3/lib/python3.9/site-packages/kafka/client_async.py:634\u001b[0m, in \u001b[0;36mKafkaClient._poll\u001b[0;34m(self, timeout)\u001b[0m\n\u001b[1;32m    631\u001b[0m \u001b[38;5;28mself\u001b[39m\u001b[38;5;241m.\u001b[39m_register_send_sockets()\n\u001b[1;32m    633\u001b[0m start_select \u001b[38;5;241m=\u001b[39m time\u001b[38;5;241m.\u001b[39mtime()\n\u001b[0;32m--> 634\u001b[0m ready \u001b[38;5;241m=\u001b[39m \u001b[38;5;28;43mself\u001b[39;49m\u001b[38;5;241;43m.\u001b[39;49m\u001b[43m_selector\u001b[49m\u001b[38;5;241;43m.\u001b[39;49m\u001b[43mselect\u001b[49m\u001b[43m(\u001b[49m\u001b[43mtimeout\u001b[49m\u001b[43m)\u001b[49m\n\u001b[1;32m    635\u001b[0m end_select \u001b[38;5;241m=\u001b[39m time\u001b[38;5;241m.\u001b[39mtime()\n\u001b[1;32m    636\u001b[0m \u001b[38;5;28;01mif\u001b[39;00m \u001b[38;5;28mself\u001b[39m\u001b[38;5;241m.\u001b[39m_sensors:\n",
      "File \u001b[0;32m~/opt/anaconda3/lib/python3.9/selectors.py:562\u001b[0m, in \u001b[0;36mKqueueSelector.select\u001b[0;34m(self, timeout)\u001b[0m\n\u001b[1;32m    560\u001b[0m ready \u001b[38;5;241m=\u001b[39m []\n\u001b[1;32m    561\u001b[0m \u001b[38;5;28;01mtry\u001b[39;00m:\n\u001b[0;32m--> 562\u001b[0m     kev_list \u001b[38;5;241m=\u001b[39m \u001b[38;5;28;43mself\u001b[39;49m\u001b[38;5;241;43m.\u001b[39;49m\u001b[43m_selector\u001b[49m\u001b[38;5;241;43m.\u001b[39;49m\u001b[43mcontrol\u001b[49m\u001b[43m(\u001b[49m\u001b[38;5;28;43;01mNone\u001b[39;49;00m\u001b[43m,\u001b[49m\u001b[43m \u001b[49m\u001b[43mmax_ev\u001b[49m\u001b[43m,\u001b[49m\u001b[43m \u001b[49m\u001b[43mtimeout\u001b[49m\u001b[43m)\u001b[49m\n\u001b[1;32m    563\u001b[0m \u001b[38;5;28;01mexcept\u001b[39;00m \u001b[38;5;167;01mInterruptedError\u001b[39;00m:\n\u001b[1;32m    564\u001b[0m     \u001b[38;5;28;01mreturn\u001b[39;00m ready\n",
      "\u001b[0;31mKeyboardInterrupt\u001b[0m: "
     ]
    }
   ],
   "source": [
    "from kafka import KafkaConsumer\n",
    "import numpy\n",
    "import json\n",
    "\n",
    "consumer = KafkaConsumer('djkanjdn')\n",
    "for msg in consumer:\n",
    "    b_val = msg.value\n",
    "    valence = json.loads(b_val)[\"valence\"]\n",
    "    print(valence)\n",
    "    score = json.loads(b_val)[\"score\"]\n",
    "    print(score)\n",
    "    state = json.loads(b_val)[\"state\"]\n",
    "    myArray = numpy.array(state)\n",
    "    print(myArray)"
   ]
  },
  {
   "cell_type": "code",
   "execution_count": 46,
   "id": "5ab543f3",
   "metadata": {},
   "outputs": [],
   "source": [
    "list_of_list = [[2, 4, 3],[2, 9, 6], [3, 10, 8]]\n",
    "\n",
    "def f1(list_of_list):\n",
    "    result = []\n",
    "    for inner_list in list_of_list:\n",
    "        for x in inner_list:\n",
    "            if x not in result:\n",
    "                result.append(x)\n",
    "    return result\n",
    "\n",
    "def f2(list_of_list):\n",
    "    flat_list = []\n",
    "    for inner_list in list_of_list:\n",
    "        flat_list.extend(inner_list)\n",
    "    return [\n",
    "        x for i, x in enumerate(flat_list)\n",
    "        if flat_list.index(x) == i]\n",
    "\n",
    "def f3(list_of_list):\n",
    "    result = []\n",
    "    seen = set()\n",
    "    for inner_list in list_of_list:\n",
    "        for x in inner_list:\n",
    "            if x not in seen:\n",
    "                result.append(x)\n",
    "                seen.add(x)\n",
    "    return result"
   ]
  },
  {
   "cell_type": "code",
   "execution_count": 48,
   "id": "0d50a179",
   "metadata": {},
   "outputs": [
    {
     "name": "stdout",
     "output_type": "stream",
     "text": [
      "8.893013000488281e-05\n"
     ]
    }
   ],
   "source": [
    "import time\n",
    "\n",
    "start = time.time()\n",
    "f1(list_of_list)\n",
    "end = time.time()\n",
    "print(end - start)"
   ]
  },
  {
   "cell_type": "code",
   "execution_count": 49,
   "id": "0598f0aa",
   "metadata": {},
   "outputs": [
    {
     "name": "stdout",
     "output_type": "stream",
     "text": [
      "0.00011587142944335938\n"
     ]
    }
   ],
   "source": [
    "start = time.time()\n",
    "f2(list_of_list)\n",
    "end = time.time()\n",
    "print(end - start)"
   ]
  },
  {
   "cell_type": "code",
   "execution_count": 50,
   "id": "6b352dda",
   "metadata": {},
   "outputs": [
    {
     "name": "stdout",
     "output_type": "stream",
     "text": [
      "0.0001068115234375\n"
     ]
    }
   ],
   "source": [
    "start = time.time()\n",
    "f3(list_of_list)\n",
    "end = time.time()\n",
    "print(end - start)"
   ]
  },
  {
   "cell_type": "code",
   "execution_count": null,
   "id": "855336ac",
   "metadata": {},
   "outputs": [],
   "source": [
    "f2<f3<f1"
   ]
  },
  {
   "cell_type": "code",
   "execution_count": null,
   "id": "e42aa2f5",
   "metadata": {},
   "outputs": [],
   "source": []
  },
  {
   "cell_type": "code",
   "execution_count": 52,
   "id": "efb0c51a",
   "metadata": {},
   "outputs": [
    {
     "name": "stdout",
     "output_type": "stream",
     "text": [
      "True\n"
     ]
    }
   ],
   "source": [
    "print(0.0001068115234375 < 0.00011587142944335938)"
   ]
  },
  {
   "cell_type": "code",
   "execution_count": 8,
   "id": "bc88a9d4",
   "metadata": {},
   "outputs": [
    {
     "name": "stdout",
     "output_type": "stream",
     "text": [
      "[0.99, 0.613, 0.246, 0.167, 0.077, 0.731, 0.075, 0.01, 0.228, 0.015, 0.661, 0.212, 0.212, 0.87, 0.764, 0.716, 0.409, 0.013, 0.805, 0.187, 0.059, 0.066, 0.975, 0.656, 0.43, 0.893, 0.716, 0.118, 0.376, 0.24, 0.762, 0.626, 0.858, 0.153, 0.216, 0.161, 0.114, 0.362, 0.11, 0.28, 0.397, 0.722, 0.71, 0.381, 0.549, 0.022, 0.141, 0.368, 0.781, 0.564, 0.588, 0.394, 0.686, 0.546, 0.731, 0.522, 0.967, 0.821, 0.988, 0.111, 0.555, 0.911, 0.816, 0.731, 0.765, 0.838, 0.936, 0.606, 0.698, 0.788, 0.556, 0.864, 0.544, 0.825, 0.21, 0.466, 0.132, 0.866, 0.261, 0.862, 0.342, 0.722, 0.575, 0.876, 0.175, 0.772, 0.622, 0.71, 0.161, 0.83, 0.636, 0.399, 0.55, 0.126, 0.255, 0.391, 0.172, 0.24, 0.038, 0.008, 0.968, 0.512, 0.678, 0.896, 0.308, 0.125, 0.608, 0.03, 0.632, 0.434, 0.332, 0.653, 0.921, 0.529, 0.951, 0.18, 0.328, 0.237, 0.361, 0.822, 0.361, 0.432, 0.49, 0.32, 0.624, 0.761, 0.875, 0.903, 0.494, 0.167, 0.471, 0.965, 0.011, 0.004, 0.964, 0.978, 0.39, 0.241, 0.98, 0.489, 0.93, 0.453, 0.094, 0.206, 0.289, 0.703, 0.153, 0.101, 0.431, 0.964, 0.195, 0.712, 0.59, 0.967, 0.974, 0.929, 0.788, 0.499, 0.869, 0.801, 0.158, 0.63, 0.923, 0.071, 0.118, 0.795, 0.176, 0.372, 0.905, 0.866, 0.311, 0.105, 0.216, 0.12, 0.071, 0.858, 0.371, 0.298, 0.612, 0.622, 0.426, 0.072, 0.64, 0.383, 0.335, 0.368, 0.38, 0.992, 0.083, 0.697, 0.213, 0.413, 0.448, 0.192, 0.108, 0.754, 0.294, 0.908, 0.775, 0.396, 0.653, 0.879, 0.237, 0.174, 0.773, 0.361, 0.984, 0.771, 0.783, 0.924, 0.34, 0.159, 0.197, 0.764, 0.568, 0.791, 0.573, 0.064, 0.687, 0.237, 0.477, 0.064, 0.972, 0.256, 0.341, 0.923, 0.449, 0.93, 0.139, 0.929, 0.728, 0.683, 0.212, 0.81, 0.979, 0.273, 0.105, 0.323, 0.533, 0.449, 0.805, 0.618, 0.43, 0.236, 0.421, 0.172, 0.556, 0.58, 0.421, 0.663, 0.488, 0.412, 0.732, 0.394, 0.997, 0.8, 0.951, 0.364, 0.98, 0.579, 1.0, 0.947, 0.303, 0.707, 0.154, 0.941, 0.71, 0.531, 0.364, 0.729, 0.06, 0.419, 0.136, 0.172, 0.854, 0.775, 0.522, 0.281, 0.078, 0.013, 0.165, 0.972, 0.744, 0.811, 0.526, 0.213, 0.052, 0.267, 0.935, 0.614, 0.821, 0.443, 0.275, 0.507, 0.532, 0.699, 0.653, 0.876, 0.85, 0.678, 0.034, 0.434, 0.109, 0.925, 0.83, 0.714, 0.085, 0.161, 0.044, 0.172, 0.589, 0.666, 0.927, 0.153, 0.909, 0.312, 0.827, 0.223, 0.097, 0.521, 0.714, 0.959, 0.404, 0.079, 0.858, 0.359, 0.421, 0.045, 0.518, 0.579, 0.269, 0.489, 0.299, 0.683, 0.991, 0.778, 0.736, 0.454, 0.435, 0.904, 0.112, 0.449, 0.502, 0.388, 0.393, 0.467, 0.634, 0.434, 0.797, 0.751, 0.865, 0.789, 0.93, 0.135, 0.909, 0.592, 0.233, 0.557, 0.072, 0.616, 0.084, 0.017, 0.867, 0.434, 0.546, 0.129, 0.607, 0.168, 0.025, 0.949, 0.501, 0.642, 0.251, 0.351, 0.62, 0.793, 0.72, 0.113, 0.87, 0.429, 0.555, 0.096, 0.892, 0.862, 0.196, 0.535, 0.703, 0.147, 0.314, 0.029, 0.633, 0.769, 0.28, 0.572, 0.619, 0.474, 0.114, 0.47, 0.608, 0.936, 0.283, 0.881, 0.123, 0.696, 0.744, 0.165, 0.918, 0.191, 0.349, 0.037, 0.475, 0.148, 0.332, 0.731, 0.151, 0.842, 0.395, 0.189, 0.057, 0.681, 0.802, 0.517, 0.426, 0.331, 0.026, 0.801, 0.411, 0.385, 0.045, 0.874, 0.105, 0.049, 0.417, 0.447, 0.62, 0.905, 0.206, 0.219, 0.279, 0.152, 0.233, 0.56, 0.916, 0.354, 0.961, 0.588, 0.03, 0.949, 0.637, 0.609, 0.659, 0.728, 0.038, 0.468, 0.842, 0.82, 0.268, 0.436, 0.159, 0.818, 0.822, 0.539, 0.225, 0.19, 0.773, 0.117, 0.182, 0.152, 0.622, 0.202, 0.288, 0.067, 0.984, 0.169, 0.941, 0.208, 0.491, 0.429, 0.001, 0.428, 0.084, 0.009, 0.819, 0.858, 0.7, 0.94, 0.275, 0.864, 0.243, 0.033, 0.535, 0.726, 0.736, 0.133, 0.214, 0.377, 0.334, 0.66, 0.894, 0.76, 0.437, 0.769, 0.239, 0.626, 0.521, 0.253, 0.832, 0.174, 0.099, 0.899, 0.797, 0.159, 0.269, 0.336, 0.178, 0.875, 0.964, 0.781, 0.39, 0.511, 0.477, 0.041, 0.885, 0.941, 0.272, 0.73, 0.809, 0.057, 0.239, 0.775, 0.894, 0.708, 0.548, 0.484, 0.825, 0.717, 0.467, 0.277, 0.673, 0.752, 0.502, 0.807, 0.361, 0.726, 0.983, 0.793, 0.278, 0.682, 0.691, 0.641, 0.579, 0.34, 0.422, 0.492, 0.213, 0.247, 0.641, 0.17, 0.452, 0.736, 0.875, 0.347, 0.133, 0.183, 0.333, 0.254, 0.856, 0.31, 0.695, 0.15, 0.982, 0.421, 0.718, 0.48, 0.892, 0.046, 0.802, 0.617, 0.478, 0.469, 0.257, 0.639, 0.228, 0.327, 0.982, 0.967, 0.243, 0.443, 0.716, 0.792, 0.063, 0.395, 0.116, 0.59, 0.352, 0.345, 0.407, 0.146, 0.217, 0.283, 0.31, 0.438, 0.326, 0.411, 0.917, 0.129, 0.858, 0.231, 0.445, 0.93, 0.966, 0.547, 0.052, 0.937, 0.493, 0.642, 0.693, 0.385, 0.958, 0.046, 0.244, 0.777, 0.809, 0.456, 0.338, 0.93, 0.098, 0.745, 0.927, 0.191, 0.389, 0.614, 0.444, 0.908, 0.907, 0.964, 0.288, 0.19, 0.288, 0.137, 0.389, 0.309, 0.222, 0.361, 0.016, 0.669, 0.47, 0.902, 0.912, 0.691, 0.439, 0.991, 0.123, 0.778, 0.474, 0.167, 0.855, 0.793, 0.992, 0.986, 0.961, 0.153, 0.417, 0.813, 0.56, 0.122, 0.844, 0.99, 0.194, 0.949, 0.445, 0.293, 0.036, 0.972, 0.333, 0.249, 0.949, 0.395, 0.746, 0.668, 0.202, 0.829, 0.079, 0.233, 0.586, 0.241, 0.28, 0.533, 0.691, 0.912, 0.783, 0.521, 0.069, 0.857, 0.945, 0.841, 0.716, 0.938, 0.587, 0.387, 0.383, 0.946, 0.721, 0.846, 0.911, 0.824, 0.433, 0.401, 0.567, 0.084, 0.404, 0.752, 0.27, 0.23, 0.944, 0.857, 0.287, 0.235, 0.544, 0.241, 0.22, 0.795, 0.29, 0.798, 0.672, 0.239, 0.009, 0.464, 0.546, 0.747, 0.651, 0.128, 0.904, 0.307, 0.779, 0.825, 0.449, 0.208, 0.974, 0.81, 0.45, 0.462, 0.169, 0.303, 0.859, 0.81, 0.813, 0.077, 0.744, 0.303, 0.972, 0.231, 0.223, 0.754, 0.682, 0.739, 0.216, 0.447, 0.48, 0.114, 0.645, 0.368, 0.531, 0.061, 0.913, 0.59, 0.493, 0.385, 0.069, 0.834, 0.364, 0.641, 0.682, 0.696, 0.7, 0.58, 0.313, 0.244, 0.374, 0.791, 0.325, 0.3, 0.059, 0.856, 0.173, 0.667, 0.865, 0.688, 0.718, 0.417, 0.512, 0.141, 0.922, 0.032, 0.931, 0.389, 0.374, 0.02, 0.916, 0.976]\n"
     ]
    }
   ],
   "source": [
    "import numpy as np\n",
    "\n",
    "arr = np.random.rand(800).round(3)\n",
    "a = arr.tolist() \n",
    "print(a)"
   ]
  }
 ],
 "metadata": {
  "kernelspec": {
   "display_name": "Python 3 (ipykernel)",
   "language": "python",
   "name": "python3"
  },
  "language_info": {
   "codemirror_mode": {
    "name": "ipython",
    "version": 3
   },
   "file_extension": ".py",
   "mimetype": "text/x-python",
   "name": "python",
   "nbconvert_exporter": "python",
   "pygments_lexer": "ipython3",
   "version": "3.9.12"
  }
 },
 "nbformat": 4,
 "nbformat_minor": 5
}
